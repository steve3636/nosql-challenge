{
 "cells": [
  {
   "cell_type": "markdown",
   "id": "9a57c4c6",
   "metadata": {},
   "source": [
    "# Eat Safe, Love"
   ]
  },
  {
   "cell_type": "markdown",
   "id": "064ef857",
   "metadata": {},
   "source": [
    "## Part 1: Database and Jupyter Notebook Set Up"
   ]
  },
  {
   "cell_type": "markdown",
   "id": "664e3c1f",
   "metadata": {},
   "source": [
    "Import the data provided in the `establishments.json` file from your Terminal. Name the database `uk_food` and the collection `establishments`.\n",
    "\n",
    "Within this markdown cell, copy the line of text you used to import the data from your Terminal. This way, future analysts will be able to repeat your process.\n",
    "\n",
    "e.g.: Import the dataset with `mongoimport --type json -d uk_food -c establishments --drop --jsonArray establishments.json`"
   ]
  },
  {
   "cell_type": "code",
   "execution_count": 4,
   "id": "3ecdd008",
   "metadata": {
    "tags": []
   },
   "outputs": [],
   "source": [
    "# Import dependencies\n",
    "from pymongo import MongoClient\n",
    "from pprint import pprint"
   ]
  },
  {
   "cell_type": "code",
   "execution_count": 5,
   "id": "59390c4a",
   "metadata": {
    "tags": []
   },
   "outputs": [],
   "source": [
    "# Create an instance of MongoClient\n",
    "mongo = MongoClient(port=27017)"
   ]
  },
  {
   "cell_type": "code",
   "execution_count": null,
   "id": "f0f68a19-2eb1-43c9-9fb5-d7f7d5951695",
   "metadata": {},
   "outputs": [],
   "source": []
  },
  {
   "cell_type": "code",
   "execution_count": 6,
   "id": "7f9ececa",
   "metadata": {
    "tags": []
   },
   "outputs": [
    {
     "name": "stdout",
     "output_type": "stream",
     "text": [
      "['Resources', 'admin', 'autosaurus', 'classDB', 'config', 'epa', 'fruits_db', 'local', 'met', 'petsitly_marketing', 'travel_db', 'uk_food']\n"
     ]
    }
   ],
   "source": [
    "# confirm that our new database was created\n",
    "print(mongo.list_database_names()) "
   ]
  },
  {
   "cell_type": "code",
   "execution_count": null,
   "id": "bb149688-f80b-45f2-b2e0-d7fbfc37eb60",
   "metadata": {},
   "outputs": [],
   "source": []
  },
  {
   "cell_type": "code",
   "execution_count": 7,
   "id": "71e373c1",
   "metadata": {
    "tags": []
   },
   "outputs": [],
   "source": [
    "# assign the uk_food database to a variable name\n",
    "db = mongo['uk_food']"
   ]
  },
  {
   "cell_type": "code",
   "execution_count": null,
   "id": "e2e6c0ed-34c3-438a-8ea9-510124c01c89",
   "metadata": {},
   "outputs": [],
   "source": []
  },
  {
   "cell_type": "code",
   "execution_count": 8,
   "id": "ef1b89ed",
   "metadata": {},
   "outputs": [
    {
     "name": "stdout",
     "output_type": "stream",
     "text": [
      "['establishments']\n"
     ]
    }
   ],
   "source": [
    "# review the collections in our new database\n",
    "print(db.list_collection_names()) "
   ]
  },
  {
   "cell_type": "code",
   "execution_count": null,
   "id": "c5af2ae3-4682-4c1c-b240-75b9566015be",
   "metadata": {},
   "outputs": [],
   "source": []
  },
  {
   "cell_type": "code",
   "execution_count": 10,
   "id": "94bf5d5e-f1e5-45d1-9416-25f025dee1d3",
   "metadata": {},
   "outputs": [
    {
     "name": "stdout",
     "output_type": "stream",
     "text": [
      "{'AddressLine1': 'The Pines Garden',\n",
      " 'AddressLine2': 'Beach Road',\n",
      " 'AddressLine3': 'St Margarets Bay',\n",
      " 'AddressLine4': 'Kent',\n",
      " 'BusinessName': 'The Tea Room',\n",
      " 'BusinessType': 'Restaurant/Cafe/Canteen',\n",
      " 'BusinessTypeID': 1,\n",
      " 'ChangesByServerID': 0,\n",
      " 'Distance': 4587.362402580997,\n",
      " 'FHRSID': 551803,\n",
      " 'LocalAuthorityBusinessID': 'PI/000070948',\n",
      " 'LocalAuthorityCode': '182',\n",
      " 'LocalAuthorityEmailAddress': 'publicprotection@dover.gov.uk',\n",
      " 'LocalAuthorityName': 'Dover',\n",
      " 'LocalAuthorityWebSite': 'http://www.dover.gov.uk/',\n",
      " 'NewRatingPending': False,\n",
      " 'Phone': '',\n",
      " 'PostCode': 'CT15 6DZ',\n",
      " 'RatingDate': '2021-08-17T00:00:00',\n",
      " 'RatingKey': 'fhrs_5_en-gb',\n",
      " 'RatingValue': '5',\n",
      " 'RightToReply': '',\n",
      " 'SchemeType': 'FHRS',\n",
      " '_id': ObjectId('652954983013a428fd7be7e2'),\n",
      " 'geocode': {'latitude': '51.148133', 'longitude': '1.383298'},\n",
      " 'links': [{'href': 'https://api.ratings.food.gov.uk/establishments/551803',\n",
      "            'rel': 'self'}],\n",
      " 'meta': {'dataSource': None,\n",
      "          'extractDate': '0001-01-01T00:00:00',\n",
      "          'itemCount': 0,\n",
      "          'pageNumber': 0,\n",
      "          'pageSize': 0,\n",
      "          'returncode': None,\n",
      "          'totalCount': 0,\n",
      "          'totalPages': 0},\n",
      " 'scores': {'ConfidenceInManagement': 0, 'Hygiene': 0, 'Structural': 0}}\n"
     ]
    }
   ],
   "source": [
    "# review the collections in our new database\n",
    "pprint(db.establishments.find_one()) "
   ]
  },
  {
   "cell_type": "code",
   "execution_count": null,
   "id": "5d8a678d-2cb7-40db-a3f0-b0929d37523b",
   "metadata": {},
   "outputs": [],
   "source": []
  },
  {
   "cell_type": "code",
   "execution_count": 11,
   "id": "2cf2a0de-81f7-4d15-9c63-7535a9d7cb0b",
   "metadata": {
    "tags": []
   },
   "outputs": [],
   "source": [
    "establishments = db['establishments']"
   ]
  },
  {
   "cell_type": "code",
   "execution_count": null,
   "id": "7b891b26-dcf0-4197-953a-58f290c8f608",
   "metadata": {},
   "outputs": [],
   "source": []
  },
  {
   "cell_type": "markdown",
   "id": "d5671434",
   "metadata": {},
   "source": [
    "## Part 2: Update the Database"
   ]
  },
  {
   "cell_type": "markdown",
   "id": "314bd884",
   "metadata": {},
   "source": [
    "1. An exciting new halal restaurant just opened in Greenwich, but hasn't been rated yet. The magazine has asked you to include it in your analysis. Add the following restaurant \"Penang Flavours\" to the database."
   ]
  },
  {
   "cell_type": "code",
   "execution_count": null,
   "id": "a73a0424-5076-4cf1-97e4-0507e06147ca",
   "metadata": {},
   "outputs": [],
   "source": []
  },
  {
   "cell_type": "code",
   "execution_count": null,
   "id": "d46fb36b-edea-44b1-86d1-12caa7f64ae9",
   "metadata": {},
   "outputs": [],
   "source": []
  },
  {
   "cell_type": "code",
   "execution_count": 12,
   "id": "c2da7648",
   "metadata": {},
   "outputs": [],
   "source": [
    "# Create a dictionary for the new restaurant data\n",
    "new_restaurant_data = {\n",
    "    \"name\": \"Penang Flavours\",\n",
    "    \"address\": {\n",
    "        \"street\": \"123 Main Street\",\n",
    "        \"city\": \"Greenwich\",\n",
    "            },\n",
    "    \"cuisine\": \"Halal\",\n",
    "    \"rating\": None,  # Since it hasn't been rated yet\n",
    "}"
   ]
  },
  {
   "cell_type": "code",
   "execution_count": 13,
   "id": "a6e5cece",
   "metadata": {},
   "outputs": [],
   "source": [
    "# Insert the new restaurant into the collection\n",
    "insert_result = db.establishments.insert_one(new_restaurant_data)\n"
   ]
  },
  {
   "cell_type": "code",
   "execution_count": 14,
   "id": "63bb10f9",
   "metadata": {},
   "outputs": [
    {
     "name": "stdout",
     "output_type": "stream",
     "text": [
      "Restaurant 'Penang Flavours' has been added to the database.\n"
     ]
    }
   ],
   "source": [
    "# Check that the new restaurant was inserted\n",
    "if insert_result.acknowledged:\n",
    "    print(\"Restaurant 'Penang Flavours' has been added to the database.\")\n",
    "else:\n",
    "    print(\"Failed to add the restaurant to the database.\")"
   ]
  },
  {
   "cell_type": "code",
   "execution_count": null,
   "id": "96c456ce-b228-4f66-b28a-b7874818a949",
   "metadata": {},
   "outputs": [],
   "source": []
  },
  {
   "cell_type": "code",
   "execution_count": null,
   "id": "a659c8d6-c660-4b30-884a-95c339c589c3",
   "metadata": {},
   "outputs": [],
   "source": []
  },
  {
   "cell_type": "markdown",
   "id": "0ef4395a",
   "metadata": {},
   "source": [
    "2. Find the BusinessTypeID for \"Restaurant/Cafe/Canteen\" and return only the `BusinessTypeID` and `BusinessType` fields."
   ]
  },
  {
   "cell_type": "code",
   "execution_count": 15,
   "id": "93c63829",
   "metadata": {},
   "outputs": [
    {
     "name": "stdout",
     "output_type": "stream",
     "text": [
      "{'BusinessType': 'Restaurant/Cafe/Canteen',\n",
      " 'BusinessTypeID': 1,\n",
      " '_id': ObjectId('652954983013a428fd7be7e2')}\n",
      "{'BusinessType': 'Restaurant/Cafe/Canteen',\n",
      " 'BusinessTypeID': 1,\n",
      " '_id': ObjectId('652954983013a428fd7be7e3')}\n",
      "{'BusinessType': 'Restaurant/Cafe/Canteen',\n",
      " 'BusinessTypeID': 1,\n",
      " '_id': ObjectId('652954983013a428fd7be7e4')}\n",
      "{'BusinessType': 'Restaurant/Cafe/Canteen',\n",
      " 'BusinessTypeID': 1,\n",
      " '_id': ObjectId('652954983013a428fd7be7e5')}\n",
      "{'BusinessType': 'Restaurant/Cafe/Canteen',\n",
      " 'BusinessTypeID': 1,\n",
      " '_id': ObjectId('652954983013a428fd7be7eb')}\n",
      "{'BusinessType': 'Restaurant/Cafe/Canteen',\n",
      " 'BusinessTypeID': 1,\n",
      " '_id': ObjectId('652954983013a428fd7be7ec')}\n",
      "{'BusinessType': 'Restaurant/Cafe/Canteen',\n",
      " 'BusinessTypeID': 1,\n",
      " '_id': ObjectId('652954983013a428fd7be7ed')}\n",
      "{'BusinessType': 'Restaurant/Cafe/Canteen',\n",
      " 'BusinessTypeID': 1,\n",
      " '_id': ObjectId('652954983013a428fd7be7ef')}\n",
      "{'BusinessType': 'Restaurant/Cafe/Canteen',\n",
      " 'BusinessTypeID': 1,\n",
      " '_id': ObjectId('652954983013a428fd7be7f3')}\n",
      "{'BusinessType': 'Restaurant/Cafe/Canteen',\n",
      " 'BusinessTypeID': 1,\n",
      " '_id': ObjectId('652954983013a428fd7be7f4')}\n"
     ]
    }
   ],
   "source": [
    "# Find the BusinessTypeID for \"Restaurant/Cafe/Canteen\" and return only the BusinessTypeID and BusinessType fields\n",
    "# Define the query to find the BusinessTypeID for \"Restaurant/Cafe/Canteen\"\n",
    "query = {\"BusinessType\": \"Restaurant/Cafe/Canteen\"}\n",
    "\n",
    "# Define the projection to select the desired fields\n",
    "projection = {\"BusinessTypeID\": 1, \"BusinessType\": 1}\n",
    "\n",
    "# Use find() with the query and projection\n",
    "results = db.establishments.find(query, projection).limit(10)\n",
    "\n",
    "# Iterate through the results and pprint them\n",
    "for result in results:\n",
    "    pprint(result)\n"
   ]
  },
  {
   "cell_type": "code",
   "execution_count": null,
   "id": "5c8b15cd-4061-4db1-98a9-8b2ac390f863",
   "metadata": {},
   "outputs": [],
   "source": []
  },
  {
   "cell_type": "code",
   "execution_count": null,
   "id": "0108584a-b830-49a3-b101-934d79faf4e0",
   "metadata": {},
   "outputs": [],
   "source": []
  },
  {
   "cell_type": "markdown",
   "id": "4e570caf",
   "metadata": {},
   "source": [
    "3. Update the new restaurant with the `BusinessTypeID` you found."
   ]
  },
  {
   "cell_type": "code",
   "execution_count": null,
   "id": "32c232ea-f841-499e-be33-53035f6f082e",
   "metadata": {},
   "outputs": [],
   "source": []
  },
  {
   "cell_type": "code",
   "execution_count": 16,
   "id": "a3dc85c6-4513-4d68-938f-9b383d43f369",
   "metadata": {
    "tags": []
   },
   "outputs": [
    {
     "name": "stdout",
     "output_type": "stream",
     "text": [
      "Successfully updated the BusinessTypeID for 'Penang Flavours'.\n"
     ]
    }
   ],
   "source": [
    "# Find the BusinessTypeID for \"Restaurant/Cafe/Canteen\"\n",
    "query_for_business_type = {\"BusinessType\": \"Restaurant/Cafe/Canteen\"}\n",
    "business_type_document = db.establishments.find_one(query_for_business_type)\n",
    "if business_type_document:\n",
    "    correct_business_type_id = business_type_document[\"BusinessTypeID\"]\n",
    "\n",
    "    # Update the \"Penang Flavours\" restaurant with the correct BusinessTypeID\n",
    "    query_for_update = {\"name\": \"Penang Flavours\"}\n",
    "    update_data = {\"$set\": {\"BusinessTypeID\": correct_business_type_id}}\n",
    "    \n",
    "    update_result = db.establishments.update_one(query_for_update, update_data)\n",
    "    \n",
    "    if update_result.modified_count > 0:\n",
    "        print(\"Successfully updated the BusinessTypeID for 'Penang Flavours'.\")\n",
    "    else:\n",
    "        print(\"No documents were updated.\")\n",
    "else:\n",
    "    print(\"BusinessTypeID for 'Restaurant/Cafe/Canteen' not found.\")\n"
   ]
  },
  {
   "cell_type": "code",
   "execution_count": null,
   "id": "e2c717e2-1082-4530-80f5-9e705c3cb028",
   "metadata": {},
   "outputs": [],
   "source": []
  },
  {
   "cell_type": "code",
   "execution_count": 42,
   "id": "7f599f3d",
   "metadata": {},
   "outputs": [],
   "source": [
    "# Update the new restaurant with the correct BusinessTypeID\n"
   ]
  },
  {
   "cell_type": "code",
   "execution_count": 43,
   "id": "a6ad16f7",
   "metadata": {},
   "outputs": [],
   "source": [
    "# Confirm that the new restaurant was updated\n"
   ]
  },
  {
   "cell_type": "code",
   "execution_count": 17,
   "id": "e3dfbad0-82c4-4259-a6b0-deacbc4c8bf2",
   "metadata": {
    "tags": []
   },
   "outputs": [
    {
     "name": "stdout",
     "output_type": "stream",
     "text": [
      "Updated Restaurant 'Penang Flavours' Information:\n",
      "{'BusinessTypeID': 1,\n",
      " '_id': ObjectId('652954e76fb4ab97fcbd31c8'),\n",
      " 'address': {'city': 'Greenwich', 'street': '123 Main Street'},\n",
      " 'cuisine': 'Halal',\n",
      " 'name': 'Penang Flavours',\n",
      " 'rating': None}\n"
     ]
    }
   ],
   "source": [
    "# Find and print the updated \"Penang Flavours\" restaurant\n",
    "updated_restaurant = db.establishments.find_one({\"name\": \"Penang Flavours\"})\n",
    "\n",
    "if updated_restaurant:\n",
    "    print(\"Updated Restaurant 'Penang Flavours' Information:\")\n",
    "    pprint(updated_restaurant)\n",
    "else:\n",
    "    print(\"Restaurant 'Penang Flavours' not found.\")\n"
   ]
  },
  {
   "cell_type": "code",
   "execution_count": null,
   "id": "302b3997-c3f3-4352-ba99-773f21cf333b",
   "metadata": {},
   "outputs": [],
   "source": []
  },
  {
   "cell_type": "code",
   "execution_count": null,
   "id": "7c3d29be-eae4-4c0e-96ea-a53141ebac56",
   "metadata": {},
   "outputs": [],
   "source": []
  },
  {
   "cell_type": "markdown",
   "id": "67281254",
   "metadata": {},
   "source": [
    "4. The magazine is not interested in any establishments in Dover, so check how many documents contain the Dover Local Authority. Then, remove any establishments within the Dover Local Authority from the database, and check the number of documents to ensure they were deleted."
   ]
  },
  {
   "cell_type": "code",
   "execution_count": null,
   "id": "e4fa3069-a4ef-4b15-b5ac-3bb5576294ea",
   "metadata": {},
   "outputs": [],
   "source": []
  },
  {
   "cell_type": "code",
   "execution_count": 18,
   "id": "9c5754d8-fd53-46da-a0a9-96e0997d7213",
   "metadata": {
    "tags": []
   },
   "outputs": [
    {
     "name": "stdout",
     "output_type": "stream",
     "text": [
      "Number of documents with LocalAuthorityName 'Dover': 994\n",
      "Number of remaining documents after deletion: 38786\n"
     ]
    }
   ],
   "source": [
    "# Find how many documents have LocalAuthorityName as \"Dover\"\n",
    "dover_count = db.establishments.count_documents({\"LocalAuthorityName\": \"Dover\"})\n",
    "print(f\"Number of documents with LocalAuthorityName 'Dover': {dover_count}\")\n",
    "\n",
    "# Delete all documents where LocalAuthorityName is \"Dover\"\n",
    "delete_result = db.establishments.delete_many({\"LocalAuthorityName\": \"Dover\"})\n",
    "\n",
    "# Check if any remaining documents include Dover\n",
    "remaining_count = db.establishments.count_documents({})\n",
    "print(f\"Number of remaining documents after deletion: {remaining_count}\")\n"
   ]
  },
  {
   "cell_type": "code",
   "execution_count": null,
   "id": "e8ea6729-3347-4df1-a21a-3548b8c53e29",
   "metadata": {},
   "outputs": [],
   "source": []
  },
  {
   "cell_type": "code",
   "execution_count": null,
   "id": "35872277-0b59-4be1-af98-6b322a807d29",
   "metadata": {},
   "outputs": [],
   "source": []
  },
  {
   "cell_type": "markdown",
   "id": "e9f1662d",
   "metadata": {},
   "source": [
    "5. Some of the number values are stored as strings, when they should be stored as numbers."
   ]
  },
  {
   "cell_type": "markdown",
   "id": "c46df2df",
   "metadata": {},
   "source": [
    "Use `update_many` to convert `latitude` and `longitude` to decimal numbers."
   ]
  },
  {
   "cell_type": "code",
   "execution_count": 48,
   "id": "fd4112ce",
   "metadata": {},
   "outputs": [],
   "source": [
    "# Change the data type from String to Decimal for longitude and latitude\n"
   ]
  },
  {
   "cell_type": "code",
   "execution_count": null,
   "id": "1de890be-cd4a-468e-bf13-458dab96ea11",
   "metadata": {},
   "outputs": [],
   "source": []
  },
  {
   "cell_type": "code",
   "execution_count": 19,
   "id": "4dee1e8a-68cc-49ba-a861-291e00d369e8",
   "metadata": {
    "tags": []
   },
   "outputs": [
    {
     "name": "stdout",
     "output_type": "stream",
     "text": [
      "Number of documents updated: 0\n"
     ]
    }
   ],
   "source": [
    "\n",
    "# Select your database and collection\n",
    "db = mongo['uk_food']\n",
    "collection = db['establishments']\n",
    "\n",
    "# Define the filter to find documents with latitude and longitude as strings\n",
    "filter_criteria = {\n",
    "    \"Latitude\": {\"$type\": \"string\"},\n",
    "    \"Longitude\": {\"$type\": \"string\"}\n",
    "}\n",
    "\n",
    "# Find documents that match the filter criteria\n",
    "documents_to_update = collection.find(filter_criteria)\n",
    "\n",
    "# Update each document to change the data type from string to Decimal\n",
    "for document in documents_to_update:\n",
    "    new_latitude = Decimal(document[\"Latitude\"])\n",
    "    new_longitude = Decimal(document[\"Longitude\"])\n",
    "    \n",
    "    # Update the document with the new Decimal values\n",
    "    collection.update_one(\n",
    "        {\"_id\": document[\"_id\"]},  # Filter for the specific document\n",
    "        {\n",
    "            \"$set\": {\n",
    "                \"Latitude\": new_latitude,\n",
    "                \"Longitude\": new_longitude\n",
    "            }\n",
    "        }\n",
    "    )\n",
    "\n",
    "# Confirm that the updates were completed\n",
    "updated_documents_count = collection.count_documents(filter_criteria)\n",
    "print(f\"Number of documents updated: {updated_documents_count}\")\n"
   ]
  },
  {
   "cell_type": "code",
   "execution_count": null,
   "id": "2a8c3409-f642-4b32-bf7c-1e7f92c18d68",
   "metadata": {},
   "outputs": [],
   "source": []
  },
  {
   "cell_type": "code",
   "execution_count": null,
   "id": "d7e1021a-f6f8-45be-a461-4d18744af8c8",
   "metadata": {},
   "outputs": [],
   "source": []
  },
  {
   "cell_type": "code",
   "execution_count": null,
   "id": "63e66dc4-a1d2-4cd3-82a4-6b5d397fe2ff",
   "metadata": {},
   "outputs": [],
   "source": []
  },
  {
   "cell_type": "markdown",
   "id": "142e319c",
   "metadata": {},
   "source": [
    "Use `update_many` to convert `RatingValue` to integer numbers."
   ]
  },
  {
   "cell_type": "code",
   "execution_count": 20,
   "id": "04430a5b",
   "metadata": {},
   "outputs": [
    {
     "data": {
      "text/plain": [
       "<pymongo.results.UpdateResult at 0x29a0c7df880>"
      ]
     },
     "execution_count": 20,
     "metadata": {},
     "output_type": "execute_result"
    }
   ],
   "source": [
    "# Set non 1-5 Rating Values to Null\n",
    "non_ratings = [\"AwaitingInspection\", \"Awaiting Inspection\", \"AwaitingPublication\", \"Pass\", \"Exempt\"]\n",
    "establishments.update_many({\"RatingValue\": {\"$in\": non_ratings}}, [ {'$set':{ \"RatingValue\" : None}} ])"
   ]
  },
  {
   "cell_type": "code",
   "execution_count": 63,
   "id": "92524ccc",
   "metadata": {},
   "outputs": [],
   "source": [
    "# Change the data type from String to Integer for RatingValue\n"
   ]
  },
  {
   "cell_type": "code",
   "execution_count": 21,
   "id": "5b942e7c-051a-490b-9ef8-acba1b99c8cd",
   "metadata": {
    "tags": []
   },
   "outputs": [
    {
     "name": "stdout",
     "output_type": "stream",
     "text": [
      "Number of documents updated: 34695\n"
     ]
    }
   ],
   "source": [
    "# Select your database and collection\n",
    "db = mongo['uk_food']\n",
    "collection = db['establishments']\n",
    "\n",
    "# Define the list of non-rating values\n",
    "non_ratings = [\"AwaitingInspection\", \"Awaiting Inspection\", \"AwaitingPublication\", \"Pass\", \"Exempt\"]\n",
    "\n",
    "# Update the \"RatingValue\" field to integers and set non-numeric values to null\n",
    "update_result = collection.update_many(\n",
    "    {\"RatingValue\": {\"$nin\": [1, 2, 3, 4, 5]}},  # Filter for non-numeric values\n",
    "    [\n",
    "        {\"$set\": {\"RatingValue\": {\"$toInt\": \"$RatingValue\"}}}  # Convert to integer using $toInt\n",
    "    ]\n",
    ")\n",
    "\n",
    "# Check the number of documents updated\n",
    "updated_documents_count = update_result.modified_count\n",
    "print(f\"Number of documents updated: {updated_documents_count}\")\n"
   ]
  },
  {
   "cell_type": "code",
   "execution_count": null,
   "id": "5a9b1ec5-3a94-4395-a8c9-601d4c705659",
   "metadata": {},
   "outputs": [],
   "source": []
  },
  {
   "cell_type": "code",
   "execution_count": 65,
   "id": "0deacaf9",
   "metadata": {},
   "outputs": [],
   "source": [
    "# Check that the coordinates and rating value are now numbers\n"
   ]
  },
  {
   "cell_type": "code",
   "execution_count": 22,
   "id": "50f57408-64ab-4450-9f50-b2ad2c5dacaf",
   "metadata": {
    "tags": []
   },
   "outputs": [
    {
     "name": "stdout",
     "output_type": "stream",
     "text": [
      "Is Latitude numeric? False\n",
      "Is Longitude numeric? False\n",
      "Is RatingValue numeric? True\n"
     ]
    }
   ],
   "source": [
    "# Select your database and collection\n",
    "db = mongo['uk_food']\n",
    "collection = db['establishments']\n",
    "\n",
    "# Sample document for checking data types\n",
    "sample_document = collection.find_one()\n",
    "\n",
    "if sample_document:\n",
    "    latitude = sample_document.get(\"Latitude\")\n",
    "    longitude = sample_document.get(\"Longitude\")\n",
    "    rating_value = sample_document.get(\"RatingValue\")\n",
    "\n",
    "    # Check data types\n",
    "    is_latitude_numeric = isinstance(latitude, (int, float))\n",
    "    is_longitude_numeric = isinstance(longitude, (int, float))\n",
    "    is_rating_numeric = isinstance(rating_value, int)\n",
    "\n",
    "    print(f\"Is Latitude numeric? {is_latitude_numeric}\")\n",
    "    print(f\"Is Longitude numeric? {is_longitude_numeric}\")\n",
    "    print(f\"Is RatingValue numeric? {is_rating_numeric}\")\n",
    "else:\n",
    "    print(\"No documents found in the collection.\")\n"
   ]
  },
  {
   "cell_type": "code",
   "execution_count": null,
   "id": "c6c13c3b-8d27-4345-8c81-681035184e5f",
   "metadata": {},
   "outputs": [],
   "source": []
  },
  {
   "cell_type": "code",
   "execution_count": null,
   "id": "2e49f0d9-83ac-43dd-a591-49cffd664be0",
   "metadata": {},
   "outputs": [],
   "source": []
  }
 ],
 "metadata": {
  "kernelspec": {
   "display_name": "Python 3 (ipykernel)",
   "language": "python",
   "name": "python3"
  },
  "language_info": {
   "codemirror_mode": {
    "name": "ipython",
    "version": 3
   },
   "file_extension": ".py",
   "mimetype": "text/x-python",
   "name": "python",
   "nbconvert_exporter": "python",
   "pygments_lexer": "ipython3",
   "version": "3.11.3"
  }
 },
 "nbformat": 4,
 "nbformat_minor": 5
}
